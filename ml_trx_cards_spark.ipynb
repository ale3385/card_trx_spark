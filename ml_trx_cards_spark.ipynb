{
 "cells": [
  {
   "cell_type": "code",
   "execution_count": 2,
   "metadata": {},
   "outputs": [],
   "source": [
    "import tensorflow as tf"
   ]
  },
  {
   "cell_type": "code",
   "execution_count": 3,
   "metadata": {},
   "outputs": [],
   "source": [
    "mnist = tf.keras.datasets.mnist\n",
    "\n",
    "(x_train, y_train), (x_test, y_test) = mnist.load_data()\n",
    "x_train, x_test = x_train / 255.0, x_test / 255.0"
   ]
  },
  {
   "cell_type": "code",
   "execution_count": 4,
   "metadata": {},
   "outputs": [],
   "source": [
    "model = tf.keras.models.Sequential([\n",
    "  tf.keras.layers.Flatten(),\n",
    "  tf.keras.layers.Dense(512, activation=tf.nn.relu),\n",
    "  tf.keras.layers.Dropout(0.2),\n",
    "  tf.keras.layers.Dense(10, activation=tf.nn.softmax)\n",
    "])\n",
    "\n",
    "model.compile(optimizer='adam',\n",
    "              loss='sparse_categorical_crossentropy',\n",
    "              metrics=['accuracy'])"
   ]
  },
  {
   "cell_type": "code",
   "execution_count": 6,
   "metadata": {},
   "outputs": [
    {
     "name": "stdout",
     "output_type": "stream",
     "text": [
      "Epoch 1/10\n",
      "60000/60000 [==============================] - 20s 328us/step - loss: 0.0370 - acc: 0.9879\n",
      "Epoch 2/10\n",
      "60000/60000 [==============================] - 20s 333us/step - loss: 0.0305 - acc: 0.9899\n",
      "Epoch 3/10\n",
      "60000/60000 [==============================] - 20s 337us/step - loss: 0.0282 - acc: 0.9904\n",
      "Epoch 4/10\n",
      "60000/60000 [==============================] - 21s 346us/step - loss: 0.0265 - acc: 0.9911\n",
      "Epoch 5/10\n",
      "60000/60000 [==============================] - 20s 340us/step - loss: 0.0211 - acc: 0.9930\n",
      "Epoch 6/10\n",
      "60000/60000 [==============================] - 21s 348us/step - loss: 0.0202 - acc: 0.99340s - loss: 0.0202 - acc: \n",
      "Epoch 7/10\n",
      "60000/60000 [==============================] - 21s 347us/step - loss: 0.0206 - acc: 0.9932\n",
      "Epoch 8/10\n",
      "60000/60000 [==============================] - 21s 347us/step - loss: 0.0192 - acc: 0.9935\n",
      "Epoch 9/10\n",
      "60000/60000 [==============================] - 22s 359us/step - loss: 0.0163 - acc: 0.9945\n",
      "Epoch 10/10\n",
      "60000/60000 [==============================] - 21s 342us/step - loss: 0.0155 - acc: 0.9951\n",
      "10000/10000 [==============================] - 1s 65us/step\n"
     ]
    },
    {
     "data": {
      "text/plain": [
       "[0.08462366111347037, 0.9828]"
      ]
     },
     "execution_count": 6,
     "metadata": {},
     "output_type": "execute_result"
    }
   ],
   "source": [
    "model.fit(x_train, y_train, epochs=10)\n",
    "\n",
    "model.evaluate(x_test, y_test)"
   ]
  },
  {
   "cell_type": "code",
   "execution_count": null,
   "metadata": {},
   "outputs": [],
   "source": []
  }
 ],
 "metadata": {
  "kernelspec": {
   "display_name": "Python 3",
   "language": "python",
   "name": "python3"
  },
  "language_info": {
   "codemirror_mode": {
    "name": "ipython",
    "version": 3
   },
   "file_extension": ".py",
   "mimetype": "text/x-python",
   "name": "python",
   "nbconvert_exporter": "python",
   "pygments_lexer": "ipython3",
   "version": "3.5.2"
  }
 },
 "nbformat": 4,
 "nbformat_minor": 2
}
